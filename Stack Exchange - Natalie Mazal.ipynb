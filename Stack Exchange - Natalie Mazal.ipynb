{
 "cells": [
  {
   "cell_type": "markdown",
   "metadata": {},
   "source": [
    "# Stack Exchange Project - by Natalie Mazal"
   ]
  },
  {
   "cell_type": "code",
   "execution_count": 1,
   "metadata": {},
   "outputs": [],
   "source": [
    "import pandas as pd"
   ]
  },
  {
   "cell_type": "code",
   "execution_count": 2,
   "metadata": {},
   "outputs": [],
   "source": [
    "comments=pd.read_csv('c:/tmp/comments.csv')"
   ]
  },
  {
   "cell_type": "code",
   "execution_count": 3,
   "metadata": {},
   "outputs": [],
   "source": [
    "posts=pd.read_csv('c:/tmp/posts.csv')"
   ]
  },
  {
   "cell_type": "code",
   "execution_count": 4,
   "metadata": {},
   "outputs": [],
   "source": [
    "users=pd.read_csv('c:/tmp/users.csv')"
   ]
  },
  {
   "cell_type": "code",
   "execution_count": 5,
   "metadata": {},
   "outputs": [],
   "source": [
    "votes=pd.read_csv('c:/tmp/votes.csv')"
   ]
  },
  {
   "cell_type": "markdown",
   "metadata": {},
   "source": [
    "# Basic Analysis"
   ]
  },
  {
   "cell_type": "markdown",
   "metadata": {},
   "source": [
    "1. how many posts were made each year?"
   ]
  },
  {
   "cell_type": "code",
   "execution_count": 20,
   "metadata": {},
   "outputs": [
    {
     "data": {
      "text/html": [
       "<div>\n",
       "<style scoped>\n",
       "    .dataframe tbody tr th:only-of-type {\n",
       "        vertical-align: middle;\n",
       "    }\n",
       "\n",
       "    .dataframe tbody tr th {\n",
       "        vertical-align: top;\n",
       "    }\n",
       "\n",
       "    .dataframe thead th {\n",
       "        text-align: right;\n",
       "    }\n",
       "</style>\n",
       "<table border=\"1\" class=\"dataframe\">\n",
       "  <thead>\n",
       "    <tr style=\"text-align: right;\">\n",
       "      <th></th>\n",
       "      <th>num_of_posts</th>\n",
       "    </tr>\n",
       "    <tr>\n",
       "      <th>creation_year</th>\n",
       "      <th></th>\n",
       "    </tr>\n",
       "  </thead>\n",
       "  <tbody>\n",
       "    <tr>\n",
       "      <th>2011</th>\n",
       "      <td>156</td>\n",
       "    </tr>\n",
       "    <tr>\n",
       "      <th>2012</th>\n",
       "      <td>1065</td>\n",
       "    </tr>\n",
       "    <tr>\n",
       "      <th>2013</th>\n",
       "      <td>1018</td>\n",
       "    </tr>\n",
       "  </tbody>\n",
       "</table>\n",
       "</div>"
      ],
      "text/plain": [
       "               num_of_posts\n",
       "creation_year              \n",
       "2011                    156\n",
       "2012                   1065\n",
       "2013                   1018"
      ]
     },
     "execution_count": 20,
     "metadata": {},
     "output_type": "execute_result"
    }
   ],
   "source": [
    "posts['CreationDate']=pd.to_datetime(posts['CreationDate'])\n",
    "posts['creation_year']=posts['CreationDate'].dt.year\n",
    "posts.groupby('creation_year')['Id'].count().to_frame().rename(columns={'Id':'num_of_posts'})"
   ]
  },
  {
   "cell_type": "markdown",
   "metadata": {},
   "source": [
    "2. how many votes were made in each day of the week ?"
   ]
  },
  {
   "cell_type": "code",
   "execution_count": 21,
   "metadata": {},
   "outputs": [
    {
     "data": {
      "text/html": [
       "<div>\n",
       "<style scoped>\n",
       "    .dataframe tbody tr th:only-of-type {\n",
       "        vertical-align: middle;\n",
       "    }\n",
       "\n",
       "    .dataframe tbody tr th {\n",
       "        vertical-align: top;\n",
       "    }\n",
       "\n",
       "    .dataframe thead th {\n",
       "        text-align: right;\n",
       "    }\n",
       "</style>\n",
       "<table border=\"1\" class=\"dataframe\">\n",
       "  <thead>\n",
       "    <tr style=\"text-align: right;\">\n",
       "      <th></th>\n",
       "      <th>num_of_votes</th>\n",
       "    </tr>\n",
       "    <tr>\n",
       "      <th>day_week_creation</th>\n",
       "      <th></th>\n",
       "    </tr>\n",
       "  </thead>\n",
       "  <tbody>\n",
       "    <tr>\n",
       "      <th>Thursday</th>\n",
       "      <td>869</td>\n",
       "    </tr>\n",
       "    <tr>\n",
       "      <th>Friday</th>\n",
       "      <td>735</td>\n",
       "    </tr>\n",
       "    <tr>\n",
       "      <th>Wednesday</th>\n",
       "      <td>554</td>\n",
       "    </tr>\n",
       "    <tr>\n",
       "      <th>Saturday</th>\n",
       "      <td>376</td>\n",
       "    </tr>\n",
       "    <tr>\n",
       "      <th>Tuesday</th>\n",
       "      <td>354</td>\n",
       "    </tr>\n",
       "    <tr>\n",
       "      <th>Monday</th>\n",
       "      <td>282</td>\n",
       "    </tr>\n",
       "    <tr>\n",
       "      <th>Sunday</th>\n",
       "      <td>189</td>\n",
       "    </tr>\n",
       "  </tbody>\n",
       "</table>\n",
       "</div>"
      ],
      "text/plain": [
       "                   num_of_votes\n",
       "day_week_creation              \n",
       "Thursday                    869\n",
       "Friday                      735\n",
       "Wednesday                   554\n",
       "Saturday                    376\n",
       "Tuesday                     354\n",
       "Monday                      282\n",
       "Sunday                      189"
      ]
     },
     "execution_count": 21,
     "metadata": {},
     "output_type": "execute_result"
    }
   ],
   "source": [
    "\n",
    "import calendar\n",
    "def dayname(daynum):\n",
    "    return (calendar.day_name[daynum])\n",
    "\n",
    "votes['CreationDate']=pd.to_datetime(votes['CreationDate'])\n",
    "votes['day_week_creation']=votes['CreationDate'].dt.dayofweek.apply(dayname)\n",
    "votes.groupby('day_week_creation')['Id'].count()\\\n",
    ".to_frame().rename(columns={'Id':'num_of_votes'})\\\n",
    ".sort_values('num_of_votes',ascending=False)\n"
   ]
  },
  {
   "cell_type": "markdown",
   "metadata": {},
   "source": [
    "3. list all comments created on September 19th,2012"
   ]
  },
  {
   "cell_type": "code",
   "execution_count": 22,
   "metadata": {},
   "outputs": [
    {
     "data": {
      "text/html": [
       "<div>\n",
       "<style scoped>\n",
       "    .dataframe tbody tr th:only-of-type {\n",
       "        vertical-align: middle;\n",
       "    }\n",
       "\n",
       "    .dataframe tbody tr th {\n",
       "        vertical-align: top;\n",
       "    }\n",
       "\n",
       "    .dataframe thead th {\n",
       "        text-align: right;\n",
       "    }\n",
       "</style>\n",
       "<table border=\"1\" class=\"dataframe\">\n",
       "  <thead>\n",
       "    <tr style=\"text-align: right;\">\n",
       "      <th></th>\n",
       "      <th>Id</th>\n",
       "      <th>PostId</th>\n",
       "      <th>Text</th>\n",
       "      <th>CreationDate</th>\n",
       "      <th>CommentUserId</th>\n",
       "    </tr>\n",
       "  </thead>\n",
       "  <tbody>\n",
       "    <tr>\n",
       "      <th>1414</th>\n",
       "      <td>3476</td>\n",
       "      <td>887</td>\n",
       "      <td>I had the same thoughts. I'm wondering if ther...</td>\n",
       "      <td>2012-09-19 10:34:12.983</td>\n",
       "      <td>233</td>\n",
       "    </tr>\n",
       "    <tr>\n",
       "      <th>1484</th>\n",
       "      <td>3623</td>\n",
       "      <td>890</td>\n",
       "      <td>hmmm he's described as \"an over-the-top public...</td>\n",
       "      <td>2012-09-19 18:23:37.193</td>\n",
       "      <td>126</td>\n",
       "    </tr>\n",
       "  </tbody>\n",
       "</table>\n",
       "</div>"
      ],
      "text/plain": [
       "        Id  PostId                                               Text  \\\n",
       "1414  3476     887  I had the same thoughts. I'm wondering if ther...   \n",
       "1484  3623     890  hmmm he's described as \"an over-the-top public...   \n",
       "\n",
       "                 CreationDate  CommentUserId  \n",
       "1414  2012-09-19 10:34:12.983            233  \n",
       "1484  2012-09-19 18:23:37.193            126  "
      ]
     },
     "execution_count": 22,
     "metadata": {},
     "output_type": "execute_result"
    }
   ],
   "source": [
    "mask=comments['CreationDate'].str.contains(\"2012-09-19\")\n",
    "comments[mask].head()"
   ]
  },
  {
   "cell_type": "markdown",
   "metadata": {},
   "source": [
    "4.list all users under the age of 33,living in London"
   ]
  },
  {
   "cell_type": "code",
   "execution_count": 23,
   "metadata": {},
   "outputs": [
    {
     "data": {
      "text/html": [
       "<div>\n",
       "<style scoped>\n",
       "    .dataframe tbody tr th:only-of-type {\n",
       "        vertical-align: middle;\n",
       "    }\n",
       "\n",
       "    .dataframe tbody tr th {\n",
       "        vertical-align: top;\n",
       "    }\n",
       "\n",
       "    .dataframe thead th {\n",
       "        text-align: right;\n",
       "    }\n",
       "</style>\n",
       "<table border=\"1\" class=\"dataframe\">\n",
       "  <thead>\n",
       "    <tr style=\"text-align: right;\">\n",
       "      <th></th>\n",
       "      <th>UserId</th>\n",
       "      <th>Reputation</th>\n",
       "      <th>CreationDate</th>\n",
       "      <th>DisplayName</th>\n",
       "      <th>LastAccessDate</th>\n",
       "      <th>WebsiteUrl</th>\n",
       "      <th>Location</th>\n",
       "      <th>Age</th>\n",
       "      <th>AboutMe</th>\n",
       "      <th>Views</th>\n",
       "      <th>UpVotes</th>\n",
       "      <th>DownVotes</th>\n",
       "    </tr>\n",
       "  </thead>\n",
       "  <tbody>\n",
       "    <tr>\n",
       "      <th>27</th>\n",
       "      <td>27</td>\n",
       "      <td>101</td>\n",
       "      <td>2011-11-30 18:58:00.620</td>\n",
       "      <td>Noldorin</td>\n",
       "      <td>2011-12-27 00:54:12.993</td>\n",
       "      <td>http://noldorin.com/</td>\n",
       "      <td>London, United Kingdom</td>\n",
       "      <td>24.0</td>\n",
       "      <td>&lt;p&gt;entrepreneur; graduate in mathematics / the...</td>\n",
       "      <td>0</td>\n",
       "      <td>0</td>\n",
       "      <td>0</td>\n",
       "    </tr>\n",
       "    <tr>\n",
       "      <th>155</th>\n",
       "      <td>160</td>\n",
       "      <td>101</td>\n",
       "      <td>2011-12-04 14:01:19.123</td>\n",
       "      <td>Willbill</td>\n",
       "      <td>2013-02-06 10:19:52.963</td>\n",
       "      <td>NaN</td>\n",
       "      <td>London, United Kingdom</td>\n",
       "      <td>31.0</td>\n",
       "      <td>NaN</td>\n",
       "      <td>1</td>\n",
       "      <td>6</td>\n",
       "      <td>0</td>\n",
       "    </tr>\n",
       "    <tr>\n",
       "      <th>451</th>\n",
       "      <td>473</td>\n",
       "      <td>101</td>\n",
       "      <td>2011-12-29 16:57:11.727</td>\n",
       "      <td>bobble14988</td>\n",
       "      <td>2011-12-29 16:57:11.727</td>\n",
       "      <td>http://www.bobbleworks.co.uk</td>\n",
       "      <td>London, United Kingdom</td>\n",
       "      <td>26.0</td>\n",
       "      <td>&lt;p&gt;Third year university student who recently ...</td>\n",
       "      <td>0</td>\n",
       "      <td>0</td>\n",
       "      <td>0</td>\n",
       "    </tr>\n",
       "    <tr>\n",
       "      <th>679</th>\n",
       "      <td>710</td>\n",
       "      <td>101</td>\n",
       "      <td>2012-01-26 14:06:04.333</td>\n",
       "      <td>wim</td>\n",
       "      <td>2014-09-01 16:18:32.173</td>\n",
       "      <td>http://www.google.com</td>\n",
       "      <td>London, United Kingdom</td>\n",
       "      <td>32.0</td>\n",
       "      <td>&lt;p&gt;Hi from London, England!  I hope my answers...</td>\n",
       "      <td>0</td>\n",
       "      <td>7</td>\n",
       "      <td>0</td>\n",
       "    </tr>\n",
       "    <tr>\n",
       "      <th>686</th>\n",
       "      <td>717</td>\n",
       "      <td>101</td>\n",
       "      <td>2012-01-27 17:26:03.490</td>\n",
       "      <td>JHarris</td>\n",
       "      <td>2012-02-09 14:22:38.973</td>\n",
       "      <td>http://www.johnharris.tv</td>\n",
       "      <td>London, UK</td>\n",
       "      <td>29.0</td>\n",
       "      <td>NaN</td>\n",
       "      <td>1</td>\n",
       "      <td>0</td>\n",
       "      <td>0</td>\n",
       "    </tr>\n",
       "  </tbody>\n",
       "</table>\n",
       "</div>"
      ],
      "text/plain": [
       "     UserId  Reputation             CreationDate  DisplayName  \\\n",
       "27       27         101  2011-11-30 18:58:00.620     Noldorin   \n",
       "155     160         101  2011-12-04 14:01:19.123     Willbill   \n",
       "451     473         101  2011-12-29 16:57:11.727  bobble14988   \n",
       "679     710         101  2012-01-26 14:06:04.333          wim   \n",
       "686     717         101  2012-01-27 17:26:03.490      JHarris   \n",
       "\n",
       "              LastAccessDate                    WebsiteUrl  \\\n",
       "27   2011-12-27 00:54:12.993          http://noldorin.com/   \n",
       "155  2013-02-06 10:19:52.963                           NaN   \n",
       "451  2011-12-29 16:57:11.727  http://www.bobbleworks.co.uk   \n",
       "679  2014-09-01 16:18:32.173         http://www.google.com   \n",
       "686  2012-02-09 14:22:38.973      http://www.johnharris.tv   \n",
       "\n",
       "                   Location   Age  \\\n",
       "27   London, United Kingdom  24.0   \n",
       "155  London, United Kingdom  31.0   \n",
       "451  London, United Kingdom  26.0   \n",
       "679  London, United Kingdom  32.0   \n",
       "686              London, UK  29.0   \n",
       "\n",
       "                                               AboutMe  Views  UpVotes  \\\n",
       "27   <p>entrepreneur; graduate in mathematics / the...      0        0   \n",
       "155                                                NaN      1        6   \n",
       "451  <p>Third year university student who recently ...      0        0   \n",
       "679  <p>Hi from London, England!  I hope my answers...      0        7   \n",
       "686                                                NaN      1        0   \n",
       "\n",
       "     DownVotes  \n",
       "27           0  \n",
       "155          0  \n",
       "451          0  \n",
       "679          0  \n",
       "686          0  "
      ]
     },
     "execution_count": 23,
     "metadata": {},
     "output_type": "execute_result"
    }
   ],
   "source": [
    "mask=(users['Age']<33)&(users['Location'].str.contains('London'))\n",
    "\n",
    "users[mask].head()"
   ]
  },
  {
   "cell_type": "markdown",
   "metadata": {},
   "source": [
    "# Advanced Analysis"
   ]
  },
  {
   "cell_type": "markdown",
   "metadata": {},
   "source": [
    "1. display the number of votes for each post title"
   ]
  },
  {
   "cell_type": "code",
   "execution_count": 24,
   "metadata": {},
   "outputs": [
    {
     "data": {
      "text/html": [
       "<div>\n",
       "<style scoped>\n",
       "    .dataframe tbody tr th:only-of-type {\n",
       "        vertical-align: middle;\n",
       "    }\n",
       "\n",
       "    .dataframe tbody tr th {\n",
       "        vertical-align: top;\n",
       "    }\n",
       "\n",
       "    .dataframe thead th {\n",
       "        text-align: right;\n",
       "    }\n",
       "</style>\n",
       "<table border=\"1\" class=\"dataframe\">\n",
       "  <thead>\n",
       "    <tr style=\"text-align: right;\">\n",
       "      <th></th>\n",
       "      <th>num_of_votes</th>\n",
       "    </tr>\n",
       "    <tr>\n",
       "      <th>Title</th>\n",
       "      <th></th>\n",
       "    </tr>\n",
       "  </thead>\n",
       "  <tbody>\n",
       "    <tr>\n",
       "      <th>Have there been other candidates to play Jack Reacher?</th>\n",
       "      <td>27</td>\n",
       "    </tr>\n",
       "    <tr>\n",
       "      <th>Was Disney's The Black Hole the last film to feature an overture?</th>\n",
       "      <td>26</td>\n",
       "    </tr>\n",
       "    <tr>\n",
       "      <th>Where did the speaking-disease come from?</th>\n",
       "      <td>26</td>\n",
       "    </tr>\n",
       "    <tr>\n",
       "      <th>In The Departed, did the FBI know about the mole in the police department and did they interfere with the investigation?</th>\n",
       "      <td>25</td>\n",
       "    </tr>\n",
       "    <tr>\n",
       "      <th>Why does Harry only make use of time travel in The Prisoner of Azkaban?</th>\n",
       "      <td>23</td>\n",
       "    </tr>\n",
       "  </tbody>\n",
       "</table>\n",
       "</div>"
      ],
      "text/plain": [
       "                                                    num_of_votes\n",
       "Title                                                           \n",
       "Have there been other candidates to play Jack R...            27\n",
       "Was Disney's The Black Hole the last film to fe...            26\n",
       "Where did the speaking-disease come from?                     26\n",
       "In The Departed, did the FBI know about the mol...            25\n",
       "Why does Harry only make use of time travel in ...            23"
      ]
     },
     "execution_count": 24,
     "metadata": {},
     "output_type": "execute_result"
    }
   ],
   "source": [
    "df=votes.merge(posts,how='inner',left_on='PostId',right_on='Id')\n",
    "df_merge=df.groupby('Title')['Id_x'].count().to_frame()\\\n",
    ".rename(columns={'Id_x':'num_of_votes'})\\\n",
    ".sort_values('num_of_votes',ascending=False)\n",
    "df_merge.head()"
   ]
  },
  {
   "cell_type": "markdown",
   "metadata": {},
   "source": [
    "2. display posts with comments created by users living in the same location a the post creator."
   ]
  },
  {
   "cell_type": "code",
   "execution_count": 25,
   "metadata": {},
   "outputs": [
    {
     "data": {
      "text/html": [
       "<div>\n",
       "<style scoped>\n",
       "    .dataframe tbody tr th:only-of-type {\n",
       "        vertical-align: middle;\n",
       "    }\n",
       "\n",
       "    .dataframe tbody tr th {\n",
       "        vertical-align: top;\n",
       "    }\n",
       "\n",
       "    .dataframe thead th {\n",
       "        text-align: right;\n",
       "    }\n",
       "</style>\n",
       "<table border=\"1\" class=\"dataframe\">\n",
       "  <thead>\n",
       "    <tr style=\"text-align: right;\">\n",
       "      <th></th>\n",
       "      <th>PostId</th>\n",
       "      <th>Title</th>\n",
       "      <th>CommentUserId</th>\n",
       "      <th>PostCreatedId</th>\n",
       "      <th>CommentCreatedLocation</th>\n",
       "      <th>PostCreatedLocation</th>\n",
       "    </tr>\n",
       "  </thead>\n",
       "  <tbody>\n",
       "    <tr>\n",
       "      <th>531</th>\n",
       "      <td>819</td>\n",
       "      <td>Was Monk's mother also OCD?</td>\n",
       "      <td>52</td>\n",
       "      <td>52</td>\n",
       "      <td>Missouri</td>\n",
       "      <td>Missouri</td>\n",
       "    </tr>\n",
       "    <tr>\n",
       "      <th>761</th>\n",
       "      <td>1139</td>\n",
       "      <td>Clarification about closing a loop in The Looper</td>\n",
       "      <td>293</td>\n",
       "      <td>1632</td>\n",
       "      <td>Sweden</td>\n",
       "      <td>Sweden</td>\n",
       "    </tr>\n",
       "    <tr>\n",
       "      <th>911</th>\n",
       "      <td>952</td>\n",
       "      <td>Thriller about a group of kidnappers wearing S...</td>\n",
       "      <td>1312</td>\n",
       "      <td>1312</td>\n",
       "      <td>Sydney, Australia</td>\n",
       "      <td>Sydney, Australia</td>\n",
       "    </tr>\n",
       "    <tr>\n",
       "      <th>946</th>\n",
       "      <td>1440</td>\n",
       "      <td>What is the Traitor's Motive?</td>\n",
       "      <td>535</td>\n",
       "      <td>1590</td>\n",
       "      <td>Canada</td>\n",
       "      <td>Canada</td>\n",
       "    </tr>\n",
       "    <tr>\n",
       "      <th>1420</th>\n",
       "      <td>1239</td>\n",
       "      <td>Is there more to Gandalf and Galadriel's relat...</td>\n",
       "      <td>1221</td>\n",
       "      <td>835</td>\n",
       "      <td>Sweden</td>\n",
       "      <td>Sweden</td>\n",
       "    </tr>\n",
       "  </tbody>\n",
       "</table>\n",
       "</div>"
      ],
      "text/plain": [
       "      PostId                                              Title  \\\n",
       "531      819                        Was Monk's mother also OCD?   \n",
       "761     1139   Clarification about closing a loop in The Looper   \n",
       "911      952  Thriller about a group of kidnappers wearing S...   \n",
       "946     1440                      What is the Traitor's Motive?   \n",
       "1420    1239  Is there more to Gandalf and Galadriel's relat...   \n",
       "\n",
       "      CommentUserId  PostCreatedId CommentCreatedLocation PostCreatedLocation  \n",
       "531              52             52               Missouri            Missouri  \n",
       "761             293           1632                 Sweden              Sweden  \n",
       "911            1312           1312      Sydney, Australia   Sydney, Australia  \n",
       "946             535           1590                 Canada              Canada  \n",
       "1420           1221            835                 Sweden              Sweden  "
      ]
     },
     "execution_count": 25,
     "metadata": {},
     "output_type": "execute_result"
    }
   ],
   "source": [
    "#step1 : join users and posts\n",
    "users.rename(columns={'Id':'UserId'},inplace=True)\n",
    "posts_merge_users=posts.merge(users,how='inner',left_on='OwnerUserId',right_on='UserId')\\\n",
    ".rename(columns={'Location':'PostCreatedLocation','OwnerUserId':'PostCreatedId','Id':'PostId'})\\\n",
    "[['PostCreatedId','Title','PostCreatedLocation','PostId']]\n",
    "#step2 : add info on Comment Created Location\n",
    "comments.rename(columns={'UserId':'CommentUserId'},inplace=True)\n",
    "comments_merge_users=comments.merge(users,how='inner',left_on='CommentUserId',right_on='UserId')\\\n",
    ".rename(columns={'Location':'CommentCreatedLocation'})\\\n",
    "[['CommentCreatedLocation','PostId','CommentUserId']]\n",
    "comments_merge_users\n",
    "#step3 : join of 2 tables created above \n",
    "df=posts_merge_users.merge(comments_merge_users,how='inner',left_on='PostId',right_on='PostId')\\\n",
    "[['PostId','Title','CommentUserId','PostCreatedId','CommentCreatedLocation','PostCreatedLocation']]\n",
    "#step4 : add mask\n",
    "mask=df['CommentCreatedLocation']==df['PostCreatedLocation']\n",
    "df[mask]"
   ]
  },
  {
   "cell_type": "markdown",
   "metadata": {},
   "source": [
    "3. how many users have never voted"
   ]
  },
  {
   "cell_type": "code",
   "execution_count": 26,
   "metadata": {},
   "outputs": [
    {
     "data": {
      "text/plain": [
       "355"
      ]
     },
     "execution_count": 26,
     "metadata": {},
     "output_type": "execute_result"
    }
   ],
   "source": [
    "votes.rename(columns={'UserId':'VUserId'},inplace=True)\n",
    "users_merge_votes=users.merge(votes,how='left',left_on='UserId',right_on='VUserId')\\\n",
    "[['UserId','VUserId']]\n",
    "mask=users_merge_votes['VUserId'].isnull()\n",
    "df=users_merge_votes[mask]['VUserId']\n",
    "len(df)"
   ]
  },
  {
   "cell_type": "markdown",
   "metadata": {},
   "source": [
    "4.display all posts having the highest amount of comments"
   ]
  },
  {
   "cell_type": "code",
   "execution_count": 27,
   "metadata": {},
   "outputs": [
    {
     "data": {
      "text/html": [
       "<div>\n",
       "<style scoped>\n",
       "    .dataframe tbody tr th:only-of-type {\n",
       "        vertical-align: middle;\n",
       "    }\n",
       "\n",
       "    .dataframe tbody tr th {\n",
       "        vertical-align: top;\n",
       "    }\n",
       "\n",
       "    .dataframe thead th {\n",
       "        text-align: right;\n",
       "    }\n",
       "</style>\n",
       "<table border=\"1\" class=\"dataframe\">\n",
       "  <thead>\n",
       "    <tr style=\"text-align: right;\">\n",
       "      <th></th>\n",
       "      <th>CommentsCount</th>\n",
       "      <th>rank_comments</th>\n",
       "    </tr>\n",
       "    <tr>\n",
       "      <th>Title</th>\n",
       "      <th></th>\n",
       "      <th></th>\n",
       "    </tr>\n",
       "  </thead>\n",
       "  <tbody>\n",
       "    <tr>\n",
       "      <th>How much money did it take to run \"The Sting\"?</th>\n",
       "      <td>5</td>\n",
       "      <td>1.0</td>\n",
       "    </tr>\n",
       "    <tr>\n",
       "      <th>Old movie about two pilots and a cheating wife</th>\n",
       "      <td>5</td>\n",
       "      <td>1.0</td>\n",
       "    </tr>\n",
       "    <tr>\n",
       "      <th>What is Jerusalem worth?</th>\n",
       "      <td>5</td>\n",
       "      <td>1.0</td>\n",
       "    </tr>\n",
       "    <tr>\n",
       "      <th>How does the budget breakdown for a US TV season compare to a UK TV Season?</th>\n",
       "      <td>5</td>\n",
       "      <td>1.0</td>\n",
       "    </tr>\n",
       "    <tr>\n",
       "      <th>How do the 'frozen goods' survive the banana stand fire?</th>\n",
       "      <td>5</td>\n",
       "      <td>1.0</td>\n",
       "    </tr>\n",
       "    <tr>\n",
       "      <th>Who nukes the USA in The Divide?</th>\n",
       "      <td>5</td>\n",
       "      <td>1.0</td>\n",
       "    </tr>\n",
       "    <tr>\n",
       "      <th>Aliens took over the satellite</th>\n",
       "      <td>5</td>\n",
       "      <td>1.0</td>\n",
       "    </tr>\n",
       "    <tr>\n",
       "      <th>Why doesn’t Shosanna try to kill Fredrick?</th>\n",
       "      <td>5</td>\n",
       "      <td>1.0</td>\n",
       "    </tr>\n",
       "    <tr>\n",
       "      <th>In Iron Man, why is Tony Stark fooled for so long?</th>\n",
       "      <td>5</td>\n",
       "      <td>1.0</td>\n",
       "    </tr>\n",
       "    <tr>\n",
       "      <th>Plot summaries for the other two movies related to Moon</th>\n",
       "      <td>5</td>\n",
       "      <td>1.0</td>\n",
       "    </tr>\n",
       "  </tbody>\n",
       "</table>\n",
       "</div>"
      ],
      "text/plain": [
       "                                                    CommentsCount  \\\n",
       "Title                                                               \n",
       "How much money did it take to run \"The Sting\"?                  5   \n",
       "Old movie about two pilots and a cheating wife                  5   \n",
       "What is Jerusalem worth?                                        5   \n",
       "How does the budget breakdown for a US TV seaso...              5   \n",
       "How do the 'frozen goods' survive the banana st...              5   \n",
       "Who nukes the USA in The Divide?                                5   \n",
       "Aliens took over the satellite                                  5   \n",
       "Why doesn’t Shosanna try to kill Fredrick?                      5   \n",
       "In Iron Man, why is Tony Stark fooled for so long?              5   \n",
       "Plot summaries for the other two movies related...              5   \n",
       "\n",
       "                                                    rank_comments  \n",
       "Title                                                              \n",
       "How much money did it take to run \"The Sting\"?                1.0  \n",
       "Old movie about two pilots and a cheating wife                1.0  \n",
       "What is Jerusalem worth?                                      1.0  \n",
       "How does the budget breakdown for a US TV seaso...            1.0  \n",
       "How do the 'frozen goods' survive the banana st...            1.0  \n",
       "Who nukes the USA in The Divide?                              1.0  \n",
       "Aliens took over the satellite                                1.0  \n",
       "Why doesn’t Shosanna try to kill Fredrick?                    1.0  \n",
       "In Iron Man, why is Tony Stark fooled for so long?            1.0  \n",
       "Plot summaries for the other two movies related...            1.0  "
      ]
     },
     "execution_count": 27,
     "metadata": {},
     "output_type": "execute_result"
    }
   ],
   "source": [
    "comments_merge_posts=comments.merge(posts,how='left',left_on='PostId',right_on='Id')\\\n",
    "[['Title','Id_x']].rename(columns={'Id_x':'CommentsCount'})\n",
    "dfcomments_merge_posts=comments_merge_posts.groupby('Title')['CommentsCount'].count()\\\n",
    ".to_frame().sort_values('CommentsCount',ascending=False)\n",
    "dfcomments_merge_posts['rank_comments']=dfcomments_merge_posts['CommentsCount'].rank(ascending=False,method='dense')\n",
    "mask=dfcomments_merge_posts['rank_comments']==1\n",
    "dfcomments_merge_posts[mask]"
   ]
  },
  {
   "cell_type": "markdown",
   "metadata": {},
   "source": [
    "5. For each post, how many votes are coming from users living in Canada?\n",
    "   What’s their percentage of the total number of votes"
   ]
  },
  {
   "cell_type": "code",
   "execution_count": 28,
   "metadata": {},
   "outputs": [
    {
     "data": {
      "text/html": [
       "<div>\n",
       "<style scoped>\n",
       "    .dataframe tbody tr th:only-of-type {\n",
       "        vertical-align: middle;\n",
       "    }\n",
       "\n",
       "    .dataframe tbody tr th {\n",
       "        vertical-align: top;\n",
       "    }\n",
       "\n",
       "    .dataframe thead th {\n",
       "        text-align: right;\n",
       "    }\n",
       "</style>\n",
       "<table border=\"1\" class=\"dataframe\">\n",
       "  <thead>\n",
       "    <tr style=\"text-align: right;\">\n",
       "      <th></th>\n",
       "      <th>worldwide_votes</th>\n",
       "      <th>Canada_Votes</th>\n",
       "      <th>percentage</th>\n",
       "    </tr>\n",
       "    <tr>\n",
       "      <th>Title</th>\n",
       "      <th></th>\n",
       "      <th></th>\n",
       "      <th></th>\n",
       "    </tr>\n",
       "  </thead>\n",
       "  <tbody>\n",
       "    <tr>\n",
       "      <th>\"Road\" picture about guys in a tank, possibly set in the Middle East</th>\n",
       "      <td>4</td>\n",
       "      <td>1.0</td>\n",
       "      <td>25.000000</td>\n",
       "    </tr>\n",
       "    <tr>\n",
       "      <th>\"Rock TV\" animated/live action series from the early to mid 80s</th>\n",
       "      <td>3</td>\n",
       "      <td>0.0</td>\n",
       "      <td>0.000000</td>\n",
       "    </tr>\n",
       "    <tr>\n",
       "      <th>\"The Club\" where Jerry Seinfeld performed</th>\n",
       "      <td>1</td>\n",
       "      <td>0.0</td>\n",
       "      <td>0.000000</td>\n",
       "    </tr>\n",
       "    <tr>\n",
       "      <th>\"There are two kinds of people\" quote</th>\n",
       "      <td>2</td>\n",
       "      <td>0.0</td>\n",
       "      <td>0.000000</td>\n",
       "    </tr>\n",
       "    <tr>\n",
       "      <th>'80s Aquaman tv-series?</th>\n",
       "      <td>6</td>\n",
       "      <td>1.0</td>\n",
       "      <td>16.666667</td>\n",
       "    </tr>\n",
       "  </tbody>\n",
       "</table>\n",
       "</div>"
      ],
      "text/plain": [
       "                                                    worldwide_votes  \\\n",
       "Title                                                                 \n",
       "\"Road\" picture about guys in a tank, possibly s...                4   \n",
       "\"Rock TV\" animated/live action series from the ...                3   \n",
       "\"The Club\" where Jerry Seinfeld performed                         1   \n",
       "\"There are two kinds of people\" quote                             2   \n",
       "'80s Aquaman tv-series?                                           6   \n",
       "\n",
       "                                                    Canada_Votes  percentage  \n",
       "Title                                                                         \n",
       "\"Road\" picture about guys in a tank, possibly s...           1.0   25.000000  \n",
       "\"Rock TV\" animated/live action series from the ...           0.0    0.000000  \n",
       "\"The Club\" where Jerry Seinfeld performed                    0.0    0.000000  \n",
       "\"There are two kinds of people\" quote                        0.0    0.000000  \n",
       "'80s Aquaman tv-series?                                      1.0   16.666667  "
      ]
     },
     "execution_count": 28,
     "metadata": {},
     "output_type": "execute_result"
    }
   ],
   "source": [
    "#step1 : join posts and votes\n",
    "posts_merge_votes=posts.merge(votes,how='inner',left_on='Id',right_on='PostId')\\\n",
    "[['Title','VUserId']]\n",
    "#step2 : add info on users location \n",
    "users_posts_votes=posts_merge_votes.merge(users,how='left',left_on='VUserId',right_on='UserId')\\\n",
    "[['Title','VUserId','Location']]\n",
    "#step3 : filter NaN values\n",
    "mask=~users_posts_votes['Location'].isnull()\n",
    "users_posts_votes=users_posts_votes[mask]\n",
    "#step4 : count worldwide votes\n",
    "world_wide_votes=users_posts_votes.groupby('Title')['VUserId'].count().to_frame().rename(columns={'VUserId':'worldwide_votes'})\n",
    "#step5 : count canada votes\n",
    "canada=users_posts_votes['Location'].str.contains('Canada')\n",
    "canada_votes=users_posts_votes[canada]\n",
    "canada_votes=canada_votes.groupby('Title')['Location'].count().to_frame().rename(columns={'Location':'Canada_Votes'})\n",
    "#step6 : join worldwide cound and canada count\n",
    "wwv_canada=world_wide_votes.merge(canada_votes,how='left',left_on='Title',right_on='Title')\n",
    "wwv_canada['Canada_Votes'].fillna(value=0,inplace=True)\n",
    "#step7 : add info on percentage \n",
    "wwv_canada['percentage']=wwv_canada['Canada_Votes']/wwv_canada['worldwide_votes']*100\n",
    "wwv_canada.head()"
   ]
  },
  {
   "cell_type": "markdown",
   "metadata": {},
   "source": [
    "6. How many hours in average, it takes to the first comment to be posted after a creation of a new post"
   ]
  },
  {
   "cell_type": "code",
   "execution_count": 30,
   "metadata": {},
   "outputs": [
    {
     "data": {
      "text/plain": [
       "7.0"
      ]
     },
     "execution_count": 30,
     "metadata": {},
     "output_type": "execute_result"
    }
   ],
   "source": [
    "import numpy as np\n",
    "first_comment=comments.groupby('PostId')['CreationDate'].min().to_frame()\\\n",
    ".rename(columns={'CreationDate':'comment_creation_date'})\n",
    "comments_posts=first_comment.merge(posts,how='inner',left_on='PostId',right_on='Id')\\\n",
    "[['comment_creation_date','CreationDate']]\n",
    "comments_posts['comment_creation_date']=pd.to_datetime(comments_posts['comment_creation_date'])\n",
    "comments_posts['diff']=(comments_posts['comment_creation_date']-comments_posts['CreationDate'])/np.timedelta64(1,'h')\n",
    "np.round(comments_posts['diff'].mean())"
   ]
  },
  {
   "cell_type": "markdown",
   "metadata": {},
   "source": [
    "7. Whats the most common post tag?"
   ]
  },
  {
   "cell_type": "code",
   "execution_count": 37,
   "metadata": {},
   "outputs": [
    {
     "data": {
      "text/plain": [
       "tag_name\n",
       "plot-explanation    665\n",
       "Name: tag_name, dtype: int64"
      ]
     },
     "execution_count": 37,
     "metadata": {},
     "output_type": "execute_result"
    }
   ],
   "source": [
    "# split the tag name  \n",
    "p=list(posts['Tags'].str.split('><'))\n",
    "data=[]\n",
    "for i in p:\n",
    "    for item in i:\n",
    "         data.append(item)\n",
    "# remove '<' and '>'          \n",
    "data=pd.Series(data).str.replace('<','').str.replace('>','').to_frame()\n",
    "# count per tag name \n",
    "data.columns=['tag_name']\n",
    "data.groupby('tag_name')['tag_name'].count().sort_values(ascending=False).head(1)"
   ]
  },
  {
   "cell_type": "markdown",
   "metadata": {},
   "source": [
    "8. Create a pivot table displaying how many posts were created for each\n",
    "   year (Y axis) and each month (X axis)"
   ]
  },
  {
   "cell_type": "code",
   "execution_count": 38,
   "metadata": {},
   "outputs": [
    {
     "data": {
      "text/html": [
       "<div>\n",
       "<style scoped>\n",
       "    .dataframe tbody tr th:only-of-type {\n",
       "        vertical-align: middle;\n",
       "    }\n",
       "\n",
       "    .dataframe tbody tr th {\n",
       "        vertical-align: top;\n",
       "    }\n",
       "\n",
       "    .dataframe thead th {\n",
       "        text-align: right;\n",
       "    }\n",
       "</style>\n",
       "<table border=\"1\" class=\"dataframe\">\n",
       "  <thead>\n",
       "    <tr style=\"text-align: right;\">\n",
       "      <th>month_create</th>\n",
       "      <th>1</th>\n",
       "      <th>2</th>\n",
       "      <th>3</th>\n",
       "      <th>4</th>\n",
       "      <th>5</th>\n",
       "      <th>6</th>\n",
       "      <th>7</th>\n",
       "      <th>8</th>\n",
       "      <th>9</th>\n",
       "      <th>10</th>\n",
       "      <th>11</th>\n",
       "      <th>12</th>\n",
       "    </tr>\n",
       "    <tr>\n",
       "      <th>year_create</th>\n",
       "      <th></th>\n",
       "      <th></th>\n",
       "      <th></th>\n",
       "      <th></th>\n",
       "      <th></th>\n",
       "      <th></th>\n",
       "      <th></th>\n",
       "      <th></th>\n",
       "      <th></th>\n",
       "      <th></th>\n",
       "      <th></th>\n",
       "      <th></th>\n",
       "    </tr>\n",
       "  </thead>\n",
       "  <tbody>\n",
       "    <tr>\n",
       "      <th>2011</th>\n",
       "      <td>NaN</td>\n",
       "      <td>NaN</td>\n",
       "      <td>NaN</td>\n",
       "      <td>NaN</td>\n",
       "      <td>NaN</td>\n",
       "      <td>NaN</td>\n",
       "      <td>NaN</td>\n",
       "      <td>NaN</td>\n",
       "      <td>NaN</td>\n",
       "      <td>1.0</td>\n",
       "      <td>15.0</td>\n",
       "      <td>140.0</td>\n",
       "    </tr>\n",
       "    <tr>\n",
       "      <th>2012</th>\n",
       "      <td>92.0</td>\n",
       "      <td>72.0</td>\n",
       "      <td>62.0</td>\n",
       "      <td>88.0</td>\n",
       "      <td>93.0</td>\n",
       "      <td>105.0</td>\n",
       "      <td>105.0</td>\n",
       "      <td>81.0</td>\n",
       "      <td>60.0</td>\n",
       "      <td>75.0</td>\n",
       "      <td>77.0</td>\n",
       "      <td>155.0</td>\n",
       "    </tr>\n",
       "    <tr>\n",
       "      <th>2013</th>\n",
       "      <td>129.0</td>\n",
       "      <td>99.0</td>\n",
       "      <td>107.0</td>\n",
       "      <td>92.0</td>\n",
       "      <td>130.0</td>\n",
       "      <td>120.0</td>\n",
       "      <td>134.0</td>\n",
       "      <td>143.0</td>\n",
       "      <td>64.0</td>\n",
       "      <td>NaN</td>\n",
       "      <td>NaN</td>\n",
       "      <td>NaN</td>\n",
       "    </tr>\n",
       "  </tbody>\n",
       "</table>\n",
       "</div>"
      ],
      "text/plain": [
       "month_create     1     2      3     4      5      6      7      8     9   \\\n",
       "year_create                                                                \n",
       "2011            NaN   NaN    NaN   NaN    NaN    NaN    NaN    NaN   NaN   \n",
       "2012           92.0  72.0   62.0  88.0   93.0  105.0  105.0   81.0  60.0   \n",
       "2013          129.0  99.0  107.0  92.0  130.0  120.0  134.0  143.0  64.0   \n",
       "\n",
       "month_create    10    11     12  \n",
       "year_create                      \n",
       "2011           1.0  15.0  140.0  \n",
       "2012          75.0  77.0  155.0  \n",
       "2013           NaN   NaN    NaN  "
      ]
     },
     "execution_count": 38,
     "metadata": {},
     "output_type": "execute_result"
    }
   ],
   "source": [
    "posts[\"year_create\"] = posts[\"CreationDate\"].dt.year\n",
    "posts[\"month_create\"] = posts[\"CreationDate\"].dt.month\n",
    "posts_each_y_m = posts.pivot_table(index = \"year_create\", columns = \"month_create\" ,\\\n",
    "                                   values = \"Title\", aggfunc = \"count\")\n",
    "posts_each_y_m.head()"
   ]
  }
 ],
 "metadata": {
  "kernelspec": {
   "display_name": "Python 3",
   "language": "python",
   "name": "python3"
  },
  "language_info": {
   "codemirror_mode": {
    "name": "ipython",
    "version": 3
   },
   "file_extension": ".py",
   "mimetype": "text/x-python",
   "name": "python",
   "nbconvert_exporter": "python",
   "pygments_lexer": "ipython3",
   "version": "3.6.5"
  }
 },
 "nbformat": 4,
 "nbformat_minor": 4
}
